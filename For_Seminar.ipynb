{
 "metadata": {
  "name": "",
  "signature": "sha256:dc899775bb9f389e95c6d0cd823b2a446aaf99d0baec1d1ca010181120ce0905"
 },
 "nbformat": 3,
 "nbformat_minor": 0,
 "worksheets": [
  {
   "cells": [
    {
     "cell_type": "markdown",
     "metadata": {},
     "source": [
      "### Deep Belief Network in python\n",
      "    - url: http://www.pyimagesearch.com/2014/09/22/getting-started-deep-learning-python/\n",
      "    - author: Jaehyun Ahn (jaehyunahn@sogang.ac.kr)\n",
      "\n",
      "#### SEPARATION Eyes, Nose, Mouth\n",
      "    - separates target's facial features and save it to different folders\n",
      "    - collect_images( dictonary, path, attach_label, label_name)\n",
      "             if attach_label is True,\n",
      "                return dictionary list of image files\n",
      "             else\n",
      "                return list of image files\n",
      "    - image_separation(DIR)\n",
      "            read image folder and detect & crop save into separate folder"
     ]
    },
    {
     "cell_type": "code",
     "collapsed": false,
     "input": [
      "# -*- coding: utf-8 -*-\n",
      "\n",
      "from sklearn.metrics import classification_report\n",
      "from sklearn.metrics import confusion_matrix\n",
      "from sklearn import datasets\n",
      "from nolearn.dbn import DBN\n",
      "from dbn_head import *"
     ],
     "language": "python",
     "metadata": {},
     "outputs": [],
     "prompt_number": 4
    },
    {
     "cell_type": "code",
     "collapsed": false,
     "input": [
      "# \uc774\ubbf8\uc9c0\ub97c \uac00\uc838\uc640 Haar\ub85c \ub208, \ucf54, \uc785 \ubd84\ub9ac\n",
      "image_list = []\n",
      "label_index = []\n",
      "data_list = {'labels': label_index, 'data': image_list}\n",
      "\n",
      "# DIR : dir_path \uc548\uc5d0 \uc788\ub294 \uc774\ubbf8\uc9c0\ub97c \uc77d\uace0 \ub9ac\uc2a4\ud2b8 \ud615\ud0dc\ub85c \ubc18\ud658\n",
      "DIR = collect_images(\n",
      "    dict=data_list,\n",
      "    dir_path='./testImage',\n",
      "    label_addition=False,\n",
      "    label_name=0)\n",
      "image_separation(DIR)"
     ],
     "language": "python",
     "metadata": {},
     "outputs": [
      {
       "output_type": "stream",
       "stream": "stdout",
       "text": [
        "[Notice] Image_separation function called.\n",
        "PROCESSING:  ./testImage/image1.jpg\n",
        "    Found 1 faces!"
       ]
      },
      {
       "output_type": "stream",
       "stream": "stdout",
       "text": [
        "\n",
        "    Found 2 eyes!\n",
        "    Found 1 nose!\n",
        "    Found 1 mouth!\n",
        "PROCESSING:  ./testImage/image2.jpg\n",
        "    Found 1 faces!"
       ]
      },
      {
       "output_type": "stream",
       "stream": "stdout",
       "text": [
        "\n",
        "    Found 2 eyes!\n",
        "    Found 1 nose!\n",
        "    Found 1 mouth!\n",
        "PROCESSING:  ./testImage/image3.jpg\n",
        "    Found 1 faces!"
       ]
      },
      {
       "output_type": "stream",
       "stream": "stdout",
       "text": [
        "\n",
        "    Found 2 eyes!\n",
        "    Found 1 nose!\n",
        "    Found 1 mouth!\n",
        "PROCESSING:  ./testImage/image4.jpg\n",
        "    Found 1 faces!"
       ]
      },
      {
       "output_type": "stream",
       "stream": "stdout",
       "text": [
        "\n",
        "    Found 2 eyes!\n",
        "    Found 1 nose!\n",
        "    Found 1 mouth!\n",
        "PROCESSING:  ./testImage/image5.jpg\n",
        "    Found 1 faces!"
       ]
      },
      {
       "output_type": "stream",
       "stream": "stdout",
       "text": [
        "\n",
        "    Found 2 eyes!\n",
        "    Found 1 nose!\n",
        "    Found 1 mouth!\n",
        "PROCESSING:  ./testImage/image6.jpg\n",
        "    Found 1 faces!"
       ]
      },
      {
       "output_type": "stream",
       "stream": "stdout",
       "text": [
        "\n",
        "    Found 2 eyes!\n",
        "    Found 1 nose!\n",
        "    Found 1 mouth!\n",
        "PROCESSING:  ./testImage/image7.jpg\n",
        "    Found 1 faces!"
       ]
      },
      {
       "output_type": "stream",
       "stream": "stdout",
       "text": [
        "\n",
        "    Found 2 eyes!\n",
        "    Found 1 nose!\n",
        "    Found 1 mouth!\n",
        "PROCESSING:  ./testImage/image8.jpg\n",
        "    Found 1 faces!"
       ]
      },
      {
       "output_type": "stream",
       "stream": "stdout",
       "text": [
        "\n",
        "    Found 2 eyes!\n",
        "    Found 1 nose!\n",
        "    Found 1 mouth!\n",
        "PROCESSING:  ./testImage/image9.jpg\n",
        "    Found 1 faces!"
       ]
      },
      {
       "output_type": "stream",
       "stream": "stdout",
       "text": [
        "\n",
        "    Found 2 eyes!\n",
        "    Found 1 nose!\n",
        "    Found 1 mouth!\n",
        "Done.\n"
       ]
      },
      {
       "ename": "NameError",
       "evalue": "global name 'dir_path' is not defined",
       "output_type": "pyerr",
       "traceback": [
        "\u001b[0;31m---------------------------------------------------------------------------\u001b[0m\n\u001b[0;31mNameError\u001b[0m                                 Traceback (most recent call last)",
        "\u001b[0;32m<ipython-input-5-18449fd2f61e>\u001b[0m in \u001b[0;36m<module>\u001b[0;34m()\u001b[0m\n\u001b[1;32m     11\u001b[0m     label_name=0)\n\u001b[1;32m     12\u001b[0m \u001b[0;31m# image = cv2.imread(DIR[0])\u001b[0m\u001b[0;34m\u001b[0m\u001b[0;34m\u001b[0m\u001b[0m\n\u001b[0;32m---> 13\u001b[0;31m \u001b[0mimage_separation\u001b[0m\u001b[0;34m(\u001b[0m\u001b[0mDIR\u001b[0m\u001b[0;34m)\u001b[0m\u001b[0;34m\u001b[0m\u001b[0m\n\u001b[0m",
        "\u001b[0;32m/Users/sogo/Documents/Projects/Yerago/FaceDetection/dbn_head.pyc\u001b[0m in \u001b[0;36mimage_separation\u001b[0;34m(image_list)\u001b[0m\n\u001b[1;32m    134\u001b[0m         \u001b[0;32mprint\u001b[0m \u001b[0;34m\"    Found {0} mouth!\"\u001b[0m\u001b[0;34m.\u001b[0m\u001b[0mformat\u001b[0m\u001b[0;34m(\u001b[0m\u001b[0mlen\u001b[0m\u001b[0;34m(\u001b[0m\u001b[0mmouth\u001b[0m\u001b[0;34m)\u001b[0m\u001b[0;34m)\u001b[0m\u001b[0;34m\u001b[0m\u001b[0m\n\u001b[1;32m    135\u001b[0m     \u001b[0;32mprint\u001b[0m \u001b[0;34m\"Done.\"\u001b[0m\u001b[0;34m\u001b[0m\u001b[0m\n\u001b[0;32m--> 136\u001b[0;31m     \u001b[0mmove_items_to_folders\u001b[0m\u001b[0;34m(\u001b[0m\u001b[0mdir_path\u001b[0m\u001b[0;34m)\u001b[0m\u001b[0;34m\u001b[0m\u001b[0m\n\u001b[0m\u001b[1;32m    137\u001b[0m     \u001b[0;32mreturn\u001b[0m \u001b[0;36m1\u001b[0m\u001b[0;34m\u001b[0m\u001b[0m\n\u001b[1;32m    138\u001b[0m \u001b[0;34m\u001b[0m\u001b[0m\n",
        "\u001b[0;31mNameError\u001b[0m: global name 'dir_path' is not defined"
       ]
      }
     ],
     "prompt_number": 5
    },
    {
     "cell_type": "code",
     "collapsed": false,
     "input": [
      "# \ud14c\uc2a4\ud2b8 \ub370\uc774\ud130 \ub77c\ubca8\ub9c1\n",
      "image_list = []\n",
      "label_index = []\n",
      "data_list = {'labels': label_index, 'data': image_list}\n",
      "\n",
      "# \ub77c\ubca8 \ubd99\uc778 \ub9ac\uc2a4\ud2b8 \uc0dd\uc131 (Supervised Learning)\n",
      "i = 0\n",
      "train = data_list\n",
      "train = collect_images(\n",
      "    dict=train,\n",
      "    dir_path='./yeragoData/right_eyes',\n",
      "    label_addition=True,\n",
      "    label_name=0)\n",
      "train = collect_images(\n",
      "    dict=train,\n",
      "    dir_path='./yeragoData/left_eyes',\n",
      "    label_addition=True,\n",
      "    label_name=0)\n",
      "train = collect_images(\n",
      "    dict=train,\n",
      "    dir_path='./yeragoData/mouths',\n",
      "    label_addition=True,\n",
      "    label_name=1)\n",
      "train = collect_images(\n",
      "    dict=train,\n",
      "    dir_path='./yeragoData/noses',\n",
      "    label_addition=True,\n",
      "    label_name=2)\n",
      "train = collect_images(\n",
      "    dict=train,\n",
      "    dir_path='./yeragoData/faces',\n",
      "    label_addition=True,\n",
      "    label_name=3)\n",
      "# Save dictionary to .csv file\n",
      "# save_dictionary(dict=test, filename='testdata.csv')\n"
     ],
     "language": "python",
     "metadata": {},
     "outputs": [],
     "prompt_number": 6
    },
    {
     "cell_type": "code",
     "collapsed": false,
     "input": [
      "\"\"\"\n",
      "    <START TRAINING>\n",
      "    - Referred from : http://goo.gl/GBYZvR\n",
      "\"\"\"\n",
      "# \ud559\uc2b5 \ub370\uc774\ud130 \uc815\uaddc\ud654\n",
      "train['data'] = np.asarray(train['data'])\n",
      "data_train, labels_train = cvt_tastable_set(train)\n",
      "data_train = data_train.astype('float') / 255.\n",
      "labels_train = labels_train"
     ],
     "language": "python",
     "metadata": {},
     "outputs": [],
     "prompt_number": 7
    },
    {
     "cell_type": "code",
     "collapsed": false,
     "input": [
      "# DBN \ud559\uc2b5\uc2dc\uc791\n",
      "n_feat = data_train.shape[1]\n",
      "n_targets = labels_train.max() + 1\n",
      "net = DBN(\n",
      "    [n_feat, n_feat / 3, n_targets],\n",
      "    epochs=20,\n",
      "    learn_rates=0.03,\n",
      "    verbose=1\n",
      ")\n",
      "net.fit(data_train, labels_train)"
     ],
     "language": "python",
     "metadata": {},
     "outputs": []
    },
    {
     "cell_type": "code",
     "collapsed": false,
     "input": [
      "# \ud14c\uc2a4\ud2b8 \uc14b \uc0dd\uc131\n",
      "image_list = []\n",
      "label_index = []\n",
      "data_list2 = {'labels': label_index, 'data': image_list}\n",
      "test = collect_images(\n",
      "    dict=data_list2,\n",
      "    dir_path='./yeragoData/testSet/right_eyes',\n",
      "    label_addition=True,\n",
      "    label_name=0)\n",
      "test = collect_images(\n",
      "    dict=test,\n",
      "    dir_path='./yeragoData/testSet/left_eyes',\n",
      "    label_addition=True,\n",
      "    label_name=0\n",
      ")\n",
      "test = collect_images(\n",
      "    dict=test,\n",
      "    dir_path='./yeragoData/testSet/mouths',\n",
      "    label_addition=True,\n",
      "    label_name=1\n",
      ")\n",
      "test = collect_images(\n",
      "    dict=test,\n",
      "    dir_path='./yeragoData/testSet/noses',\n",
      "    label_addition=True,\n",
      "    label_name=2\n",
      ")\n",
      "test = collect_images(\n",
      "    dict=test,\n",
      "    dir_path='./yeragoData/testSet/faces',\n",
      "    label_addition=True,\n",
      "    label_name=3\n",
      ")"
     ],
     "language": "python",
     "metadata": {},
     "outputs": [],
     "prompt_number": 8
    },
    {
     "cell_type": "code",
     "collapsed": false,
     "input": [
      "# \ud14c\uc2a4\ud2b8\ub370\uc774\ud130 \uc815\uaddc\ud654\n",
      "test['data'] = np.asarray(test['data'])\n",
      "data_test = test['data'].astype('float') / 255.\n",
      "labels_test = np.array(test['labels'])\n",
      "expected = labels_test\n",
      "predicted = net.predict(data_test)\n",
      "\n",
      "# Confusion Matrix \ucd9c\ub825\n",
      "print \"Classification report for classifier %s:\\n%s\\n\" % (\n",
      "    net, classification_report(expected, predicted))\n",
      "print \"Confusion matrix:\\n%s\" % confusion_matrix(expected, predicted)"
     ],
     "language": "python",
     "metadata": {},
     "outputs": []
    }
   ],
   "metadata": {}
  }
 ]
}